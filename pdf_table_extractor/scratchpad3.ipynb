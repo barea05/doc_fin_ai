{
 "cells": [
  {
   "cell_type": "code",
   "execution_count": 1,
   "metadata": {},
   "outputs": [],
   "source": [
    "import csv\n",
    "import re"
   ]
  },
  {
   "cell_type": "code",
   "execution_count": 2,
   "metadata": {},
   "outputs": [
    {
     "name": "stdout",
     "output_type": "stream",
     "text": [
      "480000\n"
     ]
    }
   ],
   "source": [
    "value = \"$480,000\"\n",
    "\n",
    "value = value.encode('ascii', errors='ignore').decode() # Filter out non-ascii characters for now\n",
    "\n",
    "# Remove percent\n",
    "value = re.sub(r'[%\\*]', '', value)\n",
    "\n",
    "value = re.sub(r'[\\$,\\.\\*]', '', value)\n",
    "print(value)"
   ]
  },
  {
   "cell_type": "code",
   "execution_count": 3,
   "metadata": {},
   "outputs": [],
   "source": [
    "pure_f = open('/home/factentry/otto_ml/src/antlr/mondal/pdf_table_extractor/AmtIssued_Cupon_July_22_CLEAN.csv', 'w+')\n",
    "\n",
    "pure = csv.writer(pure_f)\n",
    "\n",
    "impure_f = open('/home/factentry/otto_ml/src/antlr/mondal/pdf_table_extractor/AmtIssued_Cupon_July_22_BAD.csv', 'w+')\n",
    "impure = csv.writer(impure_f)"
   ]
  },
  {
   "cell_type": "code",
   "execution_count": 4,
   "metadata": {},
   "outputs": [],
   "source": [
    "with open('/home/factentry/otto_ml/src/antlr/mondal/pdf_table_extractor/AmtIssued_Cupon_July_22.otto_ml.muni_tables.csv') as csvfile:\n",
    "    muni_bonds = csv.reader(csvfile)\n",
    "    pure.writerow([\"file_id\",\"cusip\",\"maturity\",\"amount\",\"interest_rate\",\"price\",\"yield\"])\n",
    "    impure.writerow([\"file_id\",\"cusip\",\"maturity\",\"amount\",\"interest_rate\",\"price\",\"yield\"])\n",
    "    for row in muni_bonds:\n",
    "        for idx, cell in enumerate(row):\n",
    "            if cell == \"NaN\" or cell == '-':\n",
    "                row[idx] = None\n",
    "        row[1] = row[1].replace(' ', '')\n",
    "        amt = row[3]\n",
    "        int_rate = row[4]\n",
    "        price = row[5]\n",
    "        y = row[6]\n",
    "        is_pure = True\n",
    "\n",
    "        if amt:\n",
    "            amt = amt.encode('ascii', errors='ignore').decode()\n",
    "            amt = re.sub(r'[-@_\\$\\* Cc,ab†]|(\\(.\\))', '', amt)\n",
    "            if re.sub(r'[\\.\\*]', '', amt).isnumeric():\n",
    "                row[3] = amt\n",
    "            else:\n",
    "                is_pure = False\n",
    "        \n",
    "        if int_rate:\n",
    "            int_rate = int_rate.encode('ascii', errors='ignore').decode()\n",
    "            int_rate = re.sub(r'[-@_%\\* Ccab†]|(\\(.\\))', '', int_rate)\n",
    "            if re.sub(r'[%\\*\\.]', '', int_rate).isnumeric():\n",
    "                row[4] = int_rate\n",
    "            else:\n",
    "                is_pure = False\n",
    "        \n",
    "        if price:\n",
    "            price = price.encode('ascii', errors='ignore').decode()\n",
    "            price = re.sub(r'[-@_%\\* Ccab†]|(\\(.\\))', '', price)\n",
    "            if re.sub(r'[%\\*\\.]', '', price).isnumeric():\n",
    "                row[5] = price\n",
    "            else:\n",
    "                is_pure = False\n",
    "        \n",
    "        if y:\n",
    "            y = y.encode('ascii', errors='ignore').decode()\n",
    "            y = re.sub(r'[-@_%\\* Ccab†]|(\\(.\\))', '', y)\n",
    "            y = y.replace('(†)', '')\n",
    "            if re.sub(r'[%\\*\\.]', '', y).isnumeric():\n",
    "                row[6] = y\n",
    "            else:\n",
    "                is_pure = False\n",
    "        \n",
    "        if is_pure:\n",
    "            pure.writerow(row)\n",
    "        else:\n",
    "            impure.writerow(row)\n",
    "    \n"
   ]
  },
  {
   "cell_type": "code",
   "execution_count": 5,
   "metadata": {},
   "outputs": [],
   "source": [
    "pure_f.close()\n",
    "impure_f.close()"
   ]
  }
 ],
 "metadata": {
  "kernelspec": {
   "display_name": "Python 3",
   "language": "python",
   "name": "python3"
  },
  "language_info": {
   "codemirror_mode": {
    "name": "ipython",
    "version": 3
   },
   "file_extension": ".py",
   "mimetype": "text/x-python",
   "name": "python",
   "nbconvert_exporter": "python",
   "pygments_lexer": "ipython3",
   "version": "3.10.12"
  }
 },
 "nbformat": 4,
 "nbformat_minor": 2
}
