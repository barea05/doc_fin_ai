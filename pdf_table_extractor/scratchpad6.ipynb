{
 "cells": [
  {
   "cell_type": "code",
   "execution_count": 9,
   "metadata": {},
   "outputs": [],
   "source": [
    "import csv\n",
    "from pathlib import Path\n",
    "import pdfplumber\n",
    "from tqdm import tqdm"
   ]
  },
  {
   "cell_type": "code",
   "execution_count": 10,
   "metadata": {},
   "outputs": [],
   "source": [
    "import csv\n",
    "\n",
    "def listener(q):\n",
    "    '''listens for messages on the q, writes to file. '''\n",
    "\n",
    "    with open(\"/home/factentry/otto_ml/src/antlr/mondal/pdf_table_extractor/emma_file_status.csv\", \"w+\") as f:\n",
    "        csv_handler = csv.writer(f)\n",
    "        csv_handler.writerow([\"FileName\", \"Comment\", \"PageCount\"])\n",
    "        while 1:\n",
    "            m = q.get()\n",
    "            if m == 'kill':\n",
    "                print(\"Terminated!\")\n",
    "                break\n",
    "            print(m)\n",
    "            csv_handler.writerow(m)\n",
    "\n",
    "# op = open(\"/home/factentry/otto_ml/src/antlr/mondal/pdf_table_extractor/emma_file_status.csv\", \"w+\")\n",
    "# csv_handler = csv.writer(op)\n",
    "# csv_handler.writerow([\"FileName\", \"Comment\", \"PageCount\"])"
   ]
  },
  {
   "cell_type": "code",
   "execution_count": 11,
   "metadata": {},
   "outputs": [],
   "source": [
    "def worker(fid, q):\n",
    "    PDF_FILE = f\"/OTTO-Project/EMMA_OFFICIAL_STATEMENT_TEMP_PDF/{fid}.pdf\"\n",
    "    res = []\n",
    "    try:\n",
    "        if not Path(PDF_FILE).is_file():\n",
    "            res = [fid, \"File doesn't exist\", None]\n",
    "            q.put(res)\n",
    "            return res\n",
    "    except Exception as e:\n",
    "        res = [fid, \"OS Exception\", None]\n",
    "        q.put(res)\n",
    "        return res\n",
    "    \n",
    "    try:\n",
    "        pdf = pdfplumber.open(PDF_FILE)\n",
    "        res = [fid, None, len(pdf.pages)]\n",
    "        q.put(res)\n",
    "        pdf.close()\n",
    "        return res\n",
    "    except Exception as e:\n",
    "        res = [fid, \"Corrupted PDF OR File doesn't exist\", None]\n",
    "        q.put(res)\n",
    "        return res"
   ]
  },
  {
   "cell_type": "code",
   "execution_count": null,
   "metadata": {},
   "outputs": [],
   "source": [
    "import multiprocessing as mp\n",
    "manager = mp.Manager()\n",
    "q = manager.Queue()    \n",
    "pool = mp.Pool(mp.cpu_count() + 2)\n",
    "\n",
    "#put listener to work first\n",
    "watcher = pool.apply_async(listener, (q,))\n",
    "\n",
    "#fire off workers\n",
    "jobs = []\n",
    "with open(\"/home/factentry/otto_ml/src/antlr/mondal/pdf_table_extractor/emma_all.csv\", encoding=\"utf8\") as f:\n",
    "    for fid in tqdm(f):\n",
    "        fid = fid.upper().strip()\n",
    "        job = pool.apply_async(worker, (fid, q))\n",
    "        jobs.append(job)\n",
    "\n",
    "# collect results from the workers through the pool result queue\n",
    "for job in jobs: \n",
    "    job.get()\n",
    "\n",
    "#now we are done, kill the listener\n",
    "q.put('kill')\n",
    "pool.close()\n",
    "pool.join()"
   ]
  },
  {
   "cell_type": "code",
   "execution_count": null,
   "metadata": {},
   "outputs": [
    {
     "name": "stderr",
     "output_type": "stream",
     "text": [
      "748it [08:41,  5.87it/s]"
     ]
    }
   ],
   "source": [
    "# with open(\"/home/factentry/otto_ml/src/antlr/mondal/pdf_table_extractor/emma_all.csv\", encoding=\"utf8\") as f:\n",
    "#     for fid in tqdm(f):\n",
    "#         fid = fid.upper().strip()\n",
    "#         PDF_FILE = f\"/OTTO-Project/EMMA_OFFICIAL_STATEMENT_TEMP_PDF/{fid}.pdf\"\n",
    "#         try:\n",
    "#             if not Path(PDF_FILE).is_file():\n",
    "#                 csv_handler.writerow([fid, \"File doesn't exist\", None])\n",
    "#         except Exception as e:\n",
    "#             csv_handler.writerow([fid, \"OS Exception\", None])\n",
    "        \n",
    "#         try:\n",
    "#             pdf = pdfplumber.open(PDF_FILE)\n",
    "#             csv_handler.writerow([fid, None, len(pdf.pages)])\n",
    "#         except Exception as e:\n",
    "#             csv_handler.writerow([fid, \"Corrupted PDF\", None])\n",
    "#         finally:\n",
    "#             pdf.close()\n"
   ]
  },
  {
   "cell_type": "code",
   "execution_count": null,
   "metadata": {},
   "outputs": [],
   "source": [
    "# op.close()"
   ]
  }
 ],
 "metadata": {
  "kernelspec": {
   "display_name": "Python 3",
   "language": "python",
   "name": "python3"
  },
  "language_info": {
   "codemirror_mode": {
    "name": "ipython",
    "version": 3
   },
   "file_extension": ".py",
   "mimetype": "text/x-python",
   "name": "python",
   "nbconvert_exporter": "python",
   "pygments_lexer": "ipython3",
   "version": "3.10.12"
  }
 },
 "nbformat": 4,
 "nbformat_minor": 2
}
