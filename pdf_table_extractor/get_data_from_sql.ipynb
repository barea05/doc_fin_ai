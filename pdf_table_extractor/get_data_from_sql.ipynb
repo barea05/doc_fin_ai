{
 "cells": [
  {
   "cell_type": "code",
   "execution_count": 1,
   "metadata": {},
   "outputs": [],
   "source": [
    "import csv\n",
    "import duckdb"
   ]
  },
  {
   "cell_type": "code",
   "execution_count": 2,
   "metadata": {},
   "outputs": [],
   "source": [
    "op = open(\"/home/factentry/otto_ml/src/antlr/mondal/pdf_table_extractor/emma_jul29_op.csv\", \"w+\", encoding=\"utf8\")"
   ]
  },
  {
   "cell_type": "code",
   "execution_count": 3,
   "metadata": {},
   "outputs": [],
   "source": [
    "fop = open(\"/home/factentry/otto_ml/src/antlr/mondal/pdf_table_extractor/emma_jul29_skipped.csv\", \"w+\", encoding=\"utf8\")"
   ]
  },
  {
   "cell_type": "code",
   "execution_count": 4,
   "metadata": {},
   "outputs": [],
   "source": [
    "con = duckdb.connect()"
   ]
  },
  {
   "cell_type": "code",
   "execution_count": 5,
   "metadata": {},
   "outputs": [],
   "source": [
    "con.sql(\"CREATE TABLE emma_file_status AS FROM '/home/factentry/otto_ml/src/antlr/mondal/pdf_table_extractor/emma_file_status.csv';\") "
   ]
  },
  {
   "cell_type": "code",
   "execution_count": 6,
   "metadata": {},
   "outputs": [
    {
     "data": {
      "text/plain": [
       "┌───────────────────────────────┬────────────────────┬───────────┐\n",
       "│           FileName            │      Comment       │ PageCount │\n",
       "│            varchar            │      varchar       │   int64   │\n",
       "├───────────────────────────────┼────────────────────┼───────────┤\n",
       "│ MS253781-MS229089-MD446469    │ File doesn't exist │      NULL │\n",
       "│ ﻿EP681764-EP531149-EP932386    │ File doesn't exist │      NULL │\n",
       "│ MS260348-MS235656-MD459704    │ File doesn't exist │      NULL │\n",
       "│ EP371655-EP292093-EP687552    │ File doesn't exist │      NULL │\n",
       "│ MS276953-MS274991-MD557919    │ File doesn't exist │      NULL │\n",
       "│ MS133665-MS108973-MD210890    │ File doesn't exist │      NULL │\n",
       "│ ER823649-ER641859-ER1043756   │ File doesn't exist │      NULL │\n",
       "│ MS172331-MS147639-MD284873    │ File doesn't exist │      NULL │\n",
       "│ MS64259-MS266360-MD521900     │ File doesn't exist │      NULL │\n",
       "│ MS124813-MS100121-MD524476    │ File doesn't exist │      NULL │\n",
       "│             ·                 │  ·                 │        ·  │\n",
       "│             ·                 │  ·                 │        ·  │\n",
       "│             ·                 │  ·                 │        ·  │\n",
       "│ ER1232063-ER963999-ER1364931  │ NULL               │       124 │\n",
       "│ ES1121017-ES876607-ES1277878  │ NULL               │        85 │\n",
       "│ ER980672-ER767536-ER1168949   │ NULL               │       338 │\n",
       "│ P11568220-P11210716-P11630729 │ NULL               │       112 │\n",
       "│ P21758899-P11319943-P11752828 │ NULL               │       488 │\n",
       "│ MS250720-MS226028-MD440276    │ File doesn't exist │      NULL │\n",
       "│ MS177176-MS152484-MD294471    │ File doesn't exist │      NULL │\n",
       "│ ER907069-ER708633-ER1110157   │ File doesn't exist │      NULL │\n",
       "│ MS218813-MS194121-MD376910    │ NULL               │       126 │\n",
       "│ P21709271-P21314394-P21746690 │ NULL               │       318 │\n",
       "├───────────────────────────────┴────────────────────┴───────────┤\n",
       "│ ? rows (>9999 rows, 20 shown)                        3 columns │\n",
       "└────────────────────────────────────────────────────────────────┘"
      ]
     },
     "execution_count": 6,
     "metadata": {},
     "output_type": "execute_result"
    }
   ],
   "source": [
    "res = con.sql(\"select * from emma_file_status\")\n",
    "res"
   ]
  },
  {
   "cell_type": "code",
   "execution_count": 7,
   "metadata": {},
   "outputs": [
    {
     "data": {
      "text/plain": [
       "167881"
      ]
     },
     "execution_count": 7,
     "metadata": {},
     "output_type": "execute_result"
    }
   ],
   "source": [
    "len(res)"
   ]
  },
  {
   "cell_type": "code",
   "execution_count": 8,
   "metadata": {},
   "outputs": [
    {
     "data": {
      "text/plain": [
       "98"
      ]
     },
     "execution_count": 8,
     "metadata": {},
     "output_type": "execute_result"
    }
   ],
   "source": [
    "writer = csv.DictWriter(op, fieldnames=['FileName','cusip','maturitydate','amountissued','interest_rate','issue_price','yield','redemption_date', 'Comment'])\n",
    "writer.writeheader()"
   ]
  },
  {
   "cell_type": "code",
   "execution_count": 11,
   "metadata": {},
   "outputs": [
    {
     "name": "stdout",
     "output_type": "stream",
     "text": [
      "***** FERACK13 SPIDER Database connection established *****\n"
     ]
    }
   ],
   "source": [
    "import sys\n",
    "sys.path.insert(0,'/home/factentry/otto_ml/src')\n",
    "from utils import db_class, base_class\n",
    "\n",
    "from tqdm import tqdm\n",
    "\n",
    "# FERACK =  db_class.Database_Manager('FERACK','FE1')\n",
    "FERACK13 =  db_class.Database_Manager('FERACK13','SPIDER')"
   ]
  },
  {
   "cell_type": "code",
   "execution_count": 12,
   "metadata": {},
   "outputs": [
    {
     "name": "stderr",
     "output_type": "stream",
     "text": [
      "3109it [01:03, 48.63it/s]\n"
     ]
    }
   ],
   "source": [
    "with open(\"/home/factentry/otto_ml/src/antlr/mondal/pdf_table_extractor/FileLink_Jul29.csv\", encoding=\"utf8\") as f:\n",
    "    for fileid in tqdm(f):\n",
    "        fileid = fileid.strip().upper()\n",
    "        status = con.sql(f\"select * from emma_file_status where FileName = '{fileid}' and PageCount is NULL\")\n",
    "        if len(status):\n",
    "            writer.writerow({\n",
    "                'FileName': fileid,\n",
    "                'Comment': 'Failed to open file'\n",
    "            })\n",
    "            continue\n",
    "\n",
    "        query = f\"\"\"select * from spider.dbo.emma_table_extraction where filename='{fileid}'\"\"\"\n",
    "        isin_queue = FERACK13.fetchArray_withKey(query)\n",
    "\n",
    "        if not isin_queue:\n",
    "            print(fileid, file=fop)\n",
    "        for row in isin_queue:\n",
    "            writer.writerow(row)\n"
   ]
  },
  {
   "cell_type": "code",
   "execution_count": null,
   "metadata": {},
   "outputs": [],
   "source": [
    "op.close()"
   ]
  },
  {
   "cell_type": "code",
   "execution_count": null,
   "metadata": {},
   "outputs": [],
   "source": [
    "fop.close()"
   ]
  },
  {
   "cell_type": "code",
   "execution_count": null,
   "metadata": {},
   "outputs": [],
   "source": [
    "con.close()"
   ]
  },
  {
   "cell_type": "code",
   "execution_count": 1,
   "metadata": {},
   "outputs": [],
   "source": [
    "import duckdb\n",
    "import pandas as pd\n",
    "from table_extractor import table_extractor\n",
    "import muni_table_standardiser as standardiser\n",
    "from muni_utils import table_inserter"
   ]
  },
  {
   "cell_type": "code",
   "execution_count": 2,
   "metadata": {},
   "outputs": [],
   "source": [
    "id = \"EA288849-EA4196-EA626568\"\n",
    "PDF_FILE = f\"/FERack11_FE_documents2/EMMA_Official_Statement/{id}.pdf\"\n",
    "\n",
    "extractor = table_extractor.TableExtractor(PDF_FILE)"
   ]
  },
  {
   "cell_type": "code",
   "execution_count": 3,
   "metadata": {},
   "outputs": [
    {
     "name": "stdout",
     "output_type": "stream",
     "text": [
      "2.8764044943820224\n",
      "3.3529411764705883\n",
      "3.3529411764705883\n",
      "81.33333333333333\n",
      "Skipping small bbox\n",
      "82.66666666666667\n",
      "Skipping small bbox\n",
      "82.0\n",
      "Skipping small bbox\n",
      "82.0\n",
      "Skipping small bbox\n",
      "80.66666666666667\n",
      "Skipping small bbox\n",
      "82.66666666666667\n",
      "Skipping small bbox\n",
      "2.842696629213483\n",
      "3.2941176470588234\n",
      "3.287581699346405\n",
      "Area: (88, 54, 266, 566) of page no 2\n",
      "[       due Unnamed: 1 principaL interest Unnamed: 4 Unnamed: 5   due.1  \\\n",
      "0   oct. 1        NaN    aMount     rate      yieLd      cusip  oct. 1   \n",
      "1     2010          $   630,000    3.00%      0.71%  914720TK3    2021   \n",
      "2     2011  1,355,000       NaN     3.00       1.44  914720TL1    2022   \n",
      "3     2012  1,395,000       NaN     4.00       1.85  914720TM9    2023   \n",
      "4     2013        NaN   620,000     4.50       2.34  914720TN7    2023   \n",
      "5     2013        NaN   840,000     5.00       2.34  914720TP2    2024   \n",
      "6     2014  1,515,000       NaN     3.00       2.72  914720TQ0    2024   \n",
      "7     2015  1,580,000       NaN     4.00       2.96  914720TR8    2025   \n",
      "8     2016  1,650,000       NaN     5.00       3.20  914720TS6    2026   \n",
      "9     2017  1,730,000       NaN     3.75       3.46  914720TT4    2026   \n",
      "10    2018  1,800,000       NaN     4.25       3.66  914720TU1    2027   \n",
      "11    2019  1,495,000       NaN     5.00       3.82  914720TV9    2028   \n",
      "12    2020  1,560,000       NaN     4.00      3.99*  914720TW7    2029   \n",
      "\n",
      "   principaL.1 interest.1 Unnamed: 9 Unnamed: 10  \n",
      "0       aMount       rate      yieLd       cusip  \n",
      "1   $1,635,000      5.00%     4.11%*   914720TX5  \n",
      "2    1,720,000       5.00      4.21*   914720TY3  \n",
      "3      400,000       5.00      4.31*   914720TZ0  \n",
      "4    1,405,000       5.25      4.31*   914720UA3  \n",
      "5      750,000       5.00      4.40*   914720UB1  \n",
      "6    1,150,000       5.25      4.40*   914720UC9  \n",
      "7    2,000,000       5.25      4.49*   914720UD7  \n",
      "8      125,000       4.50       4.56   914720UE5  \n",
      "9    1,985,000       5.25      4.56*   914720UF2  \n",
      "10   2,225,000       5.25      4.64*   914720UG0  \n",
      "11   2,340,000       5.25      4.72*   914720UH8  \n",
      "12   2,465,000       4.75       4.80   914720UJ4  ]\n",
      "Area: (336, 53, 489, 566) of page no 2\n",
      "[       due Unnamed: 1 principaL interest Unnamed: 4 Unnamed: 5   due.1  \\\n",
      "0   oct. 1        NaN    aMount     rate      yieLd      cusip  oct. 1   \n",
      "1     2010          $   935,000    3.00%      1.25%  914720UL9    2020   \n",
      "2     2011        NaN   375,000     4.00       1.79  914720UM7    2021   \n",
      "3     2012        NaN   390,000     4.00       2.15  914720UN5    2022   \n",
      "4     2013        NaN   405,000     3.00       2.59  914720UP0    2023   \n",
      "5     2014  1,110,000       NaN     4.00       2.97  914720UQ8    2024   \n",
      "6     2015  1,160,000       NaN     5.00       3.21  914720UR6    2025   \n",
      "7     2016  1,215,000       NaN     3.75       3.45  914720US4    2026   \n",
      "8     2017  1,265,000       NaN     4.25       3.71  914720UT2    2027   \n",
      "9     2018  1,320,000       NaN     4.25       3.91  914720UU9    2028   \n",
      "10    2019  1,365,000       NaN     4.00       4.07  914720UV7    2029   \n",
      "\n",
      "   principaL.1 interest.1 Unnamed: 9 Unnamed: 10  \n",
      "0       aMount       rate      yieLd       cusip  \n",
      "1   $1,425,000     4.125%      4.24%   914720UW5  \n",
      "2      550,000       4.25       4.36   914720UX3  \n",
      "3      575,000      4.375       4.46   914720UY1  \n",
      "4      600,000       4.50       4.56   914720UZ8  \n",
      "5      630,000      4.625       4.65   914720VA2  \n",
      "6      655,000      4.625       4.74   914720VB0  \n",
      "7      690,000       4.75       4.81   914720VC8  \n",
      "8      725,000       4.75       4.89   914720VD6  \n",
      "9      760,000       4.75       4.96   914720VE4  \n",
      "10     800,000       5.00       5.04   914720VF1  ]\n",
      "Area: (559, 53, 712, 566) of page no 2\n",
      "[       due Unnamed: 1 principaL interest Unnamed: 4 Unnamed: 5   due.1  \\\n",
      "0   oct. 1        NaN    aMount     rate      yieLd      cusip  oct. 1   \n",
      "1     2010          $   600,000    3.00%      1.46%  914720VH7    2020   \n",
      "2     2011  1,390,000       NaN     4.00       2.24  914720VJ3    2021   \n",
      "3     2012  1,445,000       NaN     4.00       2.65  914720VK0    2022   \n",
      "4     2013  1,505,000       NaN     4.00       3.14  914720VL8    2023   \n",
      "5     2014  1,565,000       NaN     4.25       3.52  914720VM6    2024   \n",
      "6     2015  1,635,000       NaN     4.25       3.76  914720VN4    2025   \n",
      "7     2016  1,700,000       NaN     4.00       4.00  914720VP9    2026   \n",
      "8     2017  1,775,000       NaN     4.50       4.26  914720VQ7    2027   \n",
      "9     2018  1,865,000       NaN     5.00       4.51  914720VR5    2028   \n",
      "10    2019  1,960,000       NaN     5.00       4.67  914720VS3    2029   \n",
      "\n",
      "   principaL.1 interest.1 Unnamed: 9 Unnamed: 10  \n",
      "0       aMount       rate      yieLd       cusip  \n",
      "1   $2,060,000      5.00%     4.84%*   914720VT1  \n",
      "2    2,165,000       4.75       4.96   914720VU8  \n",
      "3    2,275,000       5.00       5.06   914720VV6  \n",
      "4    2,385,000       5.00       5.12   914720VW4  \n",
      "5    2,510,000       5.00       5.14   914720VX2  \n",
      "6    2,635,000       5.00       5.17   914720VY0  \n",
      "7    2,775,000      5.125       5.24   914720VZ7  \n",
      "8    2,925,000      5.125       5.31   914720WA1  \n",
      "9    3,075,000       5.25       5.38   914720WB9  \n",
      "10   3,245,000      5.375       5.45   914720WC7  ]\n"
     ]
    }
   ],
   "source": [
    "df_map = extractor.extract_tables(page_range=[1])"
   ]
  },
  {
   "cell_type": "code",
   "execution_count": 6,
   "metadata": {},
   "outputs": [
    {
     "data": {
      "text/plain": [
       "dict"
      ]
     },
     "execution_count": 6,
     "metadata": {},
     "output_type": "execute_result"
    }
   ],
   "source": [
    "type(df_map)"
   ]
  },
  {
   "cell_type": "code",
   "execution_count": 9,
   "metadata": {},
   "outputs": [
    {
     "data": {
      "text/plain": [
       "{1: [       due Unnamed: 1 principaL interest Unnamed: 4 Unnamed: 5   due.1  \\\n",
       "  0   oct. 1        NaN    aMount     rate      yieLd      cusip  oct. 1   \n",
       "  1     2010          $   630,000    3.00%      0.71%  914720TK3    2021   \n",
       "  2     2011  1,355,000       NaN     3.00       1.44  914720TL1    2022   \n",
       "  3     2012  1,395,000       NaN     4.00       1.85  914720TM9    2023   \n",
       "  4     2013        NaN   620,000     4.50       2.34  914720TN7    2023   \n",
       "  5     2013        NaN   840,000     5.00       2.34  914720TP2    2024   \n",
       "  6     2014  1,515,000       NaN     3.00       2.72  914720TQ0    2024   \n",
       "  7     2015  1,580,000       NaN     4.00       2.96  914720TR8    2025   \n",
       "  8     2016  1,650,000       NaN     5.00       3.20  914720TS6    2026   \n",
       "  9     2017  1,730,000       NaN     3.75       3.46  914720TT4    2026   \n",
       "  10    2018  1,800,000       NaN     4.25       3.66  914720TU1    2027   \n",
       "  11    2019  1,495,000       NaN     5.00       3.82  914720TV9    2028   \n",
       "  12    2020  1,560,000       NaN     4.00      3.99*  914720TW7    2029   \n",
       "  \n",
       "     principaL.1 interest.1 Unnamed: 9 Unnamed: 10  \n",
       "  0       aMount       rate      yieLd       cusip  \n",
       "  1   $1,635,000      5.00%     4.11%*   914720TX5  \n",
       "  2    1,720,000       5.00      4.21*   914720TY3  \n",
       "  3      400,000       5.00      4.31*   914720TZ0  \n",
       "  4    1,405,000       5.25      4.31*   914720UA3  \n",
       "  5      750,000       5.00      4.40*   914720UB1  \n",
       "  6    1,150,000       5.25      4.40*   914720UC9  \n",
       "  7    2,000,000       5.25      4.49*   914720UD7  \n",
       "  8      125,000       4.50       4.56   914720UE5  \n",
       "  9    1,985,000       5.25      4.56*   914720UF2  \n",
       "  10   2,225,000       5.25      4.64*   914720UG0  \n",
       "  11   2,340,000       5.25      4.72*   914720UH8  \n",
       "  12   2,465,000       4.75       4.80   914720UJ4  ,\n",
       "         due Unnamed: 1 principaL interest Unnamed: 4 Unnamed: 5   due.1  \\\n",
       "  0   oct. 1        NaN    aMount     rate      yieLd      cusip  oct. 1   \n",
       "  1     2010          $   935,000    3.00%      1.25%  914720UL9    2020   \n",
       "  2     2011        NaN   375,000     4.00       1.79  914720UM7    2021   \n",
       "  3     2012        NaN   390,000     4.00       2.15  914720UN5    2022   \n",
       "  4     2013        NaN   405,000     3.00       2.59  914720UP0    2023   \n",
       "  5     2014  1,110,000       NaN     4.00       2.97  914720UQ8    2024   \n",
       "  6     2015  1,160,000       NaN     5.00       3.21  914720UR6    2025   \n",
       "  7     2016  1,215,000       NaN     3.75       3.45  914720US4    2026   \n",
       "  8     2017  1,265,000       NaN     4.25       3.71  914720UT2    2027   \n",
       "  9     2018  1,320,000       NaN     4.25       3.91  914720UU9    2028   \n",
       "  10    2019  1,365,000       NaN     4.00       4.07  914720UV7    2029   \n",
       "  \n",
       "     principaL.1 interest.1 Unnamed: 9 Unnamed: 10  \n",
       "  0       aMount       rate      yieLd       cusip  \n",
       "  1   $1,425,000     4.125%      4.24%   914720UW5  \n",
       "  2      550,000       4.25       4.36   914720UX3  \n",
       "  3      575,000      4.375       4.46   914720UY1  \n",
       "  4      600,000       4.50       4.56   914720UZ8  \n",
       "  5      630,000      4.625       4.65   914720VA2  \n",
       "  6      655,000      4.625       4.74   914720VB0  \n",
       "  7      690,000       4.75       4.81   914720VC8  \n",
       "  8      725,000       4.75       4.89   914720VD6  \n",
       "  9      760,000       4.75       4.96   914720VE4  \n",
       "  10     800,000       5.00       5.04   914720VF1  ,\n",
       "         due Unnamed: 1 principaL interest Unnamed: 4 Unnamed: 5   due.1  \\\n",
       "  0   oct. 1        NaN    aMount     rate      yieLd      cusip  oct. 1   \n",
       "  1     2010          $   600,000    3.00%      1.46%  914720VH7    2020   \n",
       "  2     2011  1,390,000       NaN     4.00       2.24  914720VJ3    2021   \n",
       "  3     2012  1,445,000       NaN     4.00       2.65  914720VK0    2022   \n",
       "  4     2013  1,505,000       NaN     4.00       3.14  914720VL8    2023   \n",
       "  5     2014  1,565,000       NaN     4.25       3.52  914720VM6    2024   \n",
       "  6     2015  1,635,000       NaN     4.25       3.76  914720VN4    2025   \n",
       "  7     2016  1,700,000       NaN     4.00       4.00  914720VP9    2026   \n",
       "  8     2017  1,775,000       NaN     4.50       4.26  914720VQ7    2027   \n",
       "  9     2018  1,865,000       NaN     5.00       4.51  914720VR5    2028   \n",
       "  10    2019  1,960,000       NaN     5.00       4.67  914720VS3    2029   \n",
       "  \n",
       "     principaL.1 interest.1 Unnamed: 9 Unnamed: 10  \n",
       "  0       aMount       rate      yieLd       cusip  \n",
       "  1   $2,060,000      5.00%     4.84%*   914720VT1  \n",
       "  2    2,165,000       4.75       4.96   914720VU8  \n",
       "  3    2,275,000       5.00       5.06   914720VV6  \n",
       "  4    2,385,000       5.00       5.12   914720VW4  \n",
       "  5    2,510,000       5.00       5.14   914720VX2  \n",
       "  6    2,635,000       5.00       5.17   914720VY0  \n",
       "  7    2,775,000      5.125       5.24   914720VZ7  \n",
       "  8    2,925,000      5.125       5.31   914720WA1  \n",
       "  9    3,075,000       5.25       5.38   914720WB9  \n",
       "  10   3,245,000      5.375       5.45   914720WC7  ]}"
      ]
     },
     "execution_count": 9,
     "metadata": {},
     "output_type": "execute_result"
    }
   ],
   "source": [
    "df_map"
   ]
  },
  {
   "cell_type": "code",
   "execution_count": null,
   "metadata": {},
   "outputs": [],
   "source": []
  },
  {
   "cell_type": "code",
   "execution_count": null,
   "metadata": {},
   "outputs": [],
   "source": []
  },
  {
   "cell_type": "code",
   "execution_count": null,
   "metadata": {},
   "outputs": [],
   "source": []
  },
  {
   "cell_type": "code",
   "execution_count": null,
   "metadata": {},
   "outputs": [],
   "source": []
  },
  {
   "cell_type": "code",
   "execution_count": null,
   "metadata": {},
   "outputs": [],
   "source": []
  },
  {
   "cell_type": "code",
   "execution_count": null,
   "metadata": {},
   "outputs": [],
   "source": []
  },
  {
   "cell_type": "code",
   "execution_count": null,
   "metadata": {},
   "outputs": [],
   "source": []
  },
  {
   "cell_type": "code",
   "execution_count": null,
   "metadata": {},
   "outputs": [],
   "source": []
  },
  {
   "cell_type": "code",
   "execution_count": null,
   "metadata": {},
   "outputs": [],
   "source": []
  },
  {
   "cell_type": "code",
   "execution_count": null,
   "metadata": {},
   "outputs": [],
   "source": []
  },
  {
   "cell_type": "code",
   "execution_count": null,
   "metadata": {},
   "outputs": [],
   "source": []
  },
  {
   "cell_type": "code",
   "execution_count": null,
   "metadata": {},
   "outputs": [],
   "source": []
  },
  {
   "cell_type": "code",
   "execution_count": null,
   "metadata": {},
   "outputs": [],
   "source": []
  },
  {
   "cell_type": "code",
   "execution_count": null,
   "metadata": {},
   "outputs": [],
   "source": []
  },
  {
   "cell_type": "code",
   "execution_count": null,
   "metadata": {},
   "outputs": [],
   "source": []
  }
 ],
 "metadata": {
  "kernelspec": {
   "display_name": "venv",
   "language": "python",
   "name": "python3"
  },
  "language_info": {
   "codemirror_mode": {
    "name": "ipython",
    "version": 3
   },
   "file_extension": ".py",
   "mimetype": "text/x-python",
   "name": "python",
   "nbconvert_exporter": "python",
   "pygments_lexer": "ipython3",
   "version": "3.10.12"
  }
 },
 "nbformat": 4,
 "nbformat_minor": 2
}
